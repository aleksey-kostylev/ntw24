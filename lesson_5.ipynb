{
 "cells": [
  {
   "cell_type": "code",
   "execution_count": 3,
   "metadata": {},
   "outputs": [],
   "source": [
    "from typing import List\n\n",
    "# Импортируем методы из библиотеки ipaddress\n",
    "from ipaddress import ip_address, ip_network"
   ]
  },
  {
   "cell_type": "code",
   "execution_count": 4,
   "metadata": {},
   "outputs": [],
   "source": [
    "# Создадим функцию для проверки наличия адреса в списке сетей\n",
    "def check_ip_address(address: str, networks: List[str]) -> None:\n",
    "    for network in networks:\n",
    "        if ip_address(address) in ip_network(network, strict=False):\n",
    "            print(f'{address} in {network}')"
   ]
  },
  {
   "cell_type": "code",
   "execution_count": 5,
   "metadata": {},
   "outputs": [
    {
     "name": "stdout",
     "output_type": "stream",
     "text": [
      "2001:DB8:2314:5678::9ABC:DEF0 in 2001:DB8:2314:5678::9AB8:0/109\n",
      "2001:DB8:2314:5678::9ABC:DEF0 in 2001:DB8:2314:5660::/59\n"
     ]
    }
   ],
   "source": [
    "# Применим функцию к нашему заданию\n",
    "check_ip_address(\n",
    "\n",
    "    address='2001:DB8:2314:5678::9ABC:DEF0',\n",
    "    \n",
    "    networks=[\n",
    "        '2001:DB8:2314:5::/52',\n",
    "        '2001:DB8:2314:5678::9AB8:0/109',\n",
    "        '2001:DB8:2314:5660::/59',\n",
    "        '2001:DB80::/27',\n",
    "    ],\n",
    ")"
   ]
  }
 ],
 "metadata": {
  "kernelspec": {
   "display_name": "Python 3",
   "language": "python",
   "name": "python3"
  },
  "language_info": {
   "codemirror_mode": {
    "name": "ipython",
    "version": 3
   },
   "file_extension": ".py",
   "mimetype": "text/x-python",
   "name": "python",
   "nbconvert_exporter": "python",
   "pygments_lexer": "ipython3",
   "version": "3.11.3"
  }
 },
 "nbformat": 4,
 "nbformat_minor": 2
}
